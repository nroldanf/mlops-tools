{
 "cells": [
  {
   "cell_type": "code",
   "execution_count": 1,
   "id": "73a66d84",
   "metadata": {},
   "outputs": [
    {
     "name": "stderr",
     "output_type": "stream",
     "text": [
      "\n",
      "KeyboardInterrupt\n",
      "\n"
     ]
    }
   ],
   "source": [
    "import pandas as pd\n",
    "import numpy as np\n",
    "from sklearn.linear_model import LinearRegression\n",
    "from sklearn.ensemble import GradientBoostingRegressor\n",
    "from sklearn import datasets\n",
    "import mlflow\n",
    "\n",
    "def main():\n",
    "\n",
    "    mlflow.autolog()\n",
    "\n",
    "    params = {\n",
    "        \"model\":\"lr\"\n",
    "        }\n",
    "\n",
    "    mlflow.log_params(params)\n",
    "\n",
    "    diabetes = datasets.load_diabetes()\n",
    "    X, y = diabetes.data, diabetes.target\n",
    "\n",
    "    if params[\"model\"] == \"lr\":\n",
    "        model = LinearRegression(fit_intercept=False)\n",
    "    elif params[\"model\"] == \"gb\":\n",
    "        model = GradientBoostingRegressor()\n",
    "    else:\n",
    "        raise ValueError('The model parameter should be either lr or gb')\n",
    "\n",
    "    model.fit(X, y)\n",
    "\n",
    "if __name__ == \"__main__\":\n",
    "    main()"
   ]
  },
  {
   "cell_type": "code",
   "execution_count": null,
   "id": "debb30e3",
   "metadata": {},
   "outputs": [],
   "source": []
  }
 ],
 "metadata": {
  "jupytext": {
   "formats": "ipynb,py:percent"
  },
  "kernelspec": {
   "display_name": "Python 3 (ipykernel)",
   "language": "python",
   "name": "python3"
  },
  "language_info": {
   "codemirror_mode": {
    "name": "ipython",
    "version": 3
   },
   "file_extension": ".py",
   "mimetype": "text/x-python",
   "name": "python",
   "nbconvert_exporter": "python",
   "pygments_lexer": "ipython3",
   "version": "3.9.13"
  }
 },
 "nbformat": 4,
 "nbformat_minor": 5
}
